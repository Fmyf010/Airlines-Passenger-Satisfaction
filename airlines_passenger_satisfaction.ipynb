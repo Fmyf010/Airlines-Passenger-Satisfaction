{
  "nbformat": 4,
  "nbformat_minor": 0,
  "metadata": {
    "colab": {
      "provenance": []
    },
    "kernelspec": {
      "name": "python3",
      "display_name": "Python 3"
    },
    "language_info": {
      "name": "python"
    }
  },
  "cells": [
    {
      "cell_type": "code",
      "source": [
        "# Hentikan proses yang nyangkut (abaikan error kalau tidak ada)\n",
        "!pkill -f \"streamlit run\" || true\n",
        "!pkill -f cloudflared || true\n",
        "!pkill -f \"lt --port\" || true\n",
        "\n",
        "# Install paket\n",
        "!pip -q install streamlit pandas joblib xgboost scikit-learn\n",
        "!wget -q https://github.com/cloudflare/cloudflared/releases/latest/download/cloudflared-linux-amd64.deb\n",
        "!dpkg -i cloudflared-linux-amd64.deb > /dev/null\n",
        "!npm -g install localtunnel > /dev/null\n"
      ],
      "metadata": {
        "colab": {
          "base_uri": "https://localhost:8080/"
        },
        "id": "q4-ZhkWJ3HAO",
        "outputId": "7c163e14-dcfa-43bd-bc05-67f31a77f206"
      },
      "execution_count": null,
      "outputs": [
        {
          "output_type": "stream",
          "name": "stdout",
          "text": [
            "^C\n",
            "^C\n",
            "^C\n"
          ]
        }
      ]
    },
    {
      "cell_type": "code",
      "source": [
        "from pathlib import Path\n",
        "import pandas as pd, numpy as np, joblib\n",
        "from sklearn.model_selection import train_test_split\n",
        "from sklearn.preprocessing import OneHotEncoder, OrdinalEncoder, MinMaxScaler, FunctionTransformer\n",
        "from sklearn.compose import ColumnTransformer\n",
        "from sklearn.pipeline import Pipeline\n",
        "from sklearn.impute import SimpleImputer\n",
        "from xgboost import XGBClassifier\n",
        "from sklearn.metrics import classification_report, roc_auc_score\n",
        "\n",
        "PKL_PATH = Path(\"/content/satisfaction_pipeline.pkl\")\n",
        "DATA_PATH = \"/content/Airlines Passanger.csv\"\n",
        "TARGET = \"satisfaction\"\n",
        "\n",
        "if PKL_PATH.exists():\n",
        "    print(\"✅ Model sudah ada:\", PKL_PATH)\n",
        "else:\n",
        "    print(\"Melatih model cepat dan menyimpan ke .pkl …\")\n",
        "\n",
        "    NOMINAL_COLS = [\"Gender\", \"Customer Type\", \"Type of Travel\"]\n",
        "    ORDINAL_COLS = [\"Class\"]\n",
        "    RATING_COLS  = [\n",
        "        \"Inflight wifi service\",\"Departure/Arrival time convenient\",\"Ease of Online booking\",\n",
        "        \"Gate location\",\"Food and drink\",\"Online boarding\",\"Seat comfort\",\n",
        "        \"Inflight entertainment\",\"On-board service\",\"Leg room service\",\"Baggage handling\",\n",
        "        \"Checkin service\",\"Inflight service\",\"Cleanliness\"\n",
        "    ]\n",
        "    NUMERIC_COLS = [\"Age\",\"Flight Distance\",\"Departure Delay in Minutes\",\"Arrival Delay in Minutes\"]\n",
        "\n",
        "    df = pd.read_csv(DATA_PATH)\n",
        "    for c in [\"Unnamed: 0\",\"id\"]:\n",
        "        if c in df.columns: df = df.drop(columns=c)\n",
        "\n",
        "    assert TARGET in df.columns, f\"Kolom target '{TARGET}' tidak ada di CSV.\"\n",
        "    X = df.drop(columns=TARGET)\n",
        "    y = df[TARGET].map({\"neutral or dissatisfied\": 1, \"satisfied\": 0})\n",
        "\n",
        "    Xtr, Xte, ytr, yte = train_test_split(X, y, test_size=0.2, random_state=11, stratify=y)\n",
        "\n",
        "    # Preprocessor → semua ke numerik\n",
        "    nominal_pipe = Pipeline([(\"onehot\", OneHotEncoder(handle_unknown=\"ignore\", drop=\"first\"))])\n",
        "    ordinal_pipe = Pipeline([(\"ord\", OrdinalEncoder(categories=[[\"Eco\",\"Eco Plus\",\"Business\"]]))])\n",
        "    rating_pipe  = Pipeline([(\"scale\", MinMaxScaler())])\n",
        "\n",
        "    dep_pipe = Pipeline([(\"log1p\", FunctionTransformer(np.log1p, feature_names_out=\"one-to-one\")),\n",
        "                         (\"scale\", MinMaxScaler())])\n",
        "    arr_pipe = Pipeline([(\"imp\", SimpleImputer(strategy=\"median\")),\n",
        "                         (\"log1p\", FunctionTransformer(np.log1p, feature_names_out=\"one-to-one\")),\n",
        "                         (\"scale\", MinMaxScaler())])\n",
        "    age_pipe, dist_pipe = MinMaxScaler(), MinMaxScaler()\n",
        "\n",
        "    preprocessor = ColumnTransformer(\n",
        "        transformers=[\n",
        "            (\"nominal\", nominal_pipe, NOMINAL_COLS),\n",
        "            (\"ordinal\", ordinal_pipe, ORDINAL_COLS),\n",
        "            (\"rating\",  rating_pipe,  RATING_COLS),\n",
        "            (\"age\",     age_pipe,     [\"Age\"]),\n",
        "            (\"dist\",    dist_pipe,    [\"Flight Distance\"]),\n",
        "            (\"dep\",     dep_pipe,     [\"Departure Delay in Minutes\"]),\n",
        "            (\"arr\",     arr_pipe,     [\"Arrival Delay in Minutes\"]),\n",
        "        ],\n",
        "        remainder=\"drop\",\n",
        "        verbose_feature_names_out=False\n",
        "    )\n",
        "\n",
        "    xgb = XGBClassifier(\n",
        "        random_state=42,\n",
        "        n_estimators=150,      # cepat di CPU Colab\n",
        "        learning_rate=0.10,\n",
        "        max_depth=4,\n",
        "        subsample=0.9,\n",
        "        colsample_bytree=0.9,\n",
        "        tree_method=\"hist\",\n",
        "        eval_metric=\"logloss\",\n",
        "        n_jobs=-1,\n",
        "    )\n",
        "\n",
        "    clf = Pipeline([(\"prep\", preprocessor), (\"model\", xgb)])\n",
        "    clf.fit(Xtr, ytr)\n",
        "\n",
        "    # Eval ringkas (opsional)\n",
        "    proba = clf.predict_proba(Xte)[:, 1]\n",
        "    pred  = (proba >= 0.5).astype(int)\n",
        "    print(classification_report(yte, pred, zero_division=0))\n",
        "    print(\"AUC:\", roc_auc_score(yte, proba))\n",
        "\n",
        "    joblib.dump(clf, PKL_PATH.as_posix())\n",
        "    print(\"Disimpan:\", PKL_PATH)\n"
      ],
      "metadata": {
        "colab": {
          "base_uri": "https://localhost:8080/"
        },
        "id": "ZT_2XnQV3jR2",
        "outputId": "15d3a571-b744-4335-c497-0f311136a246"
      },
      "execution_count": null,
      "outputs": [
        {
          "output_type": "stream",
          "name": "stdout",
          "text": [
            "Melatih model cepat dan menyimpan ke .pkl …\n",
            "              precision    recall  f1-score   support\n",
            "\n",
            "           0       0.96      0.93      0.95     11286\n",
            "           1       0.95      0.97      0.96     14690\n",
            "\n",
            "    accuracy                           0.96     25976\n",
            "   macro avg       0.96      0.95      0.96     25976\n",
            "weighted avg       0.96      0.96      0.96     25976\n",
            "\n",
            "AUC: 0.9931462192174815\n",
            "Disimpan: /content/satisfaction_pipeline.pkl\n"
          ]
        }
      ]
    },
    {
      "cell_type": "code",
      "source": [
        "%%writefile /content/app.py\n",
        "import streamlit as st\n",
        "import pandas as pd\n",
        "import joblib\n",
        "\n",
        "# ---- Konfigurasi kolom dataset ----\n",
        "NOMINAL_COLS = [\"Gender\", \"Customer Type\", \"Type of Travel\"]\n",
        "ORDINAL_COLS = [\"Class\"]\n",
        "RATING_COLS = [\n",
        "    \"Inflight wifi service\",\"Departure/Arrival time convenient\",\"Ease of Online booking\",\n",
        "    \"Gate location\",\"Food and drink\",\"Online boarding\",\"Seat comfort\",\n",
        "    \"Inflight entertainment\",\"On-board service\",\"Leg room service\",\"Baggage handling\",\n",
        "    \"Checkin service\",\"Inflight service\",\"Cleanliness\"\n",
        "]\n",
        "NUMERIC_COLS = [\"Age\",\"Flight Distance\",\"Departure Delay in Minutes\",\"Arrival Delay in Minutes\"]\n",
        "ALL_FEATURES = NOMINAL_COLS + ORDINAL_COLS + RATING_COLS + NUMERIC_COLS\n",
        "LABEL_MAP = {0:\"Satisfied\", 1:\"Neutral or Dissatisfied\"}\n",
        "\n",
        "st.set_page_config(page_title=\"Airline Satisfaction\", page_icon=\"✈️\", layout=\"centered\")\n",
        "st.title(\"✈️ Airlines Passenger Satisfaction Prediction\")\n",
        "\n",
        "@st.cache_resource\n",
        "def load_model(path=\"/content/satisfaction_pipeline.pkl\"):\n",
        "    return joblib.load(path)\n",
        "\n",
        "with st.spinner(\"Memuat model…\"):\n",
        "    clf = load_model()\n",
        "st.success(\"Model siap ✅\")\n",
        "\n",
        "def ensure_columns(df: pd.DataFrame) -> pd.DataFrame:\n",
        "    df2 = df.copy()\n",
        "    for c in ALL_FEATURES:\n",
        "        if c not in df2.columns:\n",
        "            if c in RATING_COLS: df2[c] = 3\n",
        "            elif c in NOMINAL_COLS: df2[c] = \"\"\n",
        "            elif c in ORDINAL_COLS: df2[c] = \"Eco\"\n",
        "            elif c in NUMERIC_COLS: df2[c] = 0\n",
        "    return df2[ALL_FEATURES]\n",
        "\n",
        "def predict_df(df_in: pd.DataFrame, threshold: float = 0.5) -> pd.DataFrame:\n",
        "    X = ensure_columns(df_in)\n",
        "    proba = clf.predict_proba(X)[:, 1]\n",
        "    pred  = (proba >= threshold).astype(int)\n",
        "    out = X.copy()\n",
        "    out[\"pred_proba_dissatisfied\"] = proba\n",
        "    out[\"prediction\"] = [LABEL_MAP[p] for p in pred]\n",
        "    return out\n",
        "\n",
        "st.subheader(\"Pengaturan Prediksi\")\n",
        "thresh = st.slider(\"Ambang (threshold) untuk kelas 'Neutral or Dissatisfied'\", 0.05, 0.95, 0.50, 0.05)\n",
        "\n",
        "st.subheader(\"Prediksi Satu Penumpang (Form)\")\n",
        "with st.form(\"single_form\", clear_on_submit=False):\n",
        "    c1, c2 = st.columns(2)\n",
        "    with c1:\n",
        "        gender = st.selectbox(\"Gender\", [\"Female\",\"Male\"], key=\"g\")\n",
        "        customer_type = st.selectbox(\"Customer Type\", [\"Loyal Customer\",\"disloyal customer\"], key=\"ct\")\n",
        "        travel_type = st.selectbox(\"Type of Travel\", [\"Personal Travel\",\"Business Travel\"], key=\"tt\")\n",
        "        travel_class = st.selectbox(\"Class\", [\"Eco\",\"Eco Plus\",\"Business\"], key=\"cl\")\n",
        "        age = st.number_input(\"Age\", 0, 120, 35, key=\"age\")\n",
        "        flight_distance = st.number_input(\"Flight Distance\", 0, 20000, 800, key=\"fd\")\n",
        "    with c2:\n",
        "        dep_delay = st.number_input(\"Departure Delay in Minutes\", 0, 3000, 0, key=\"dep\")\n",
        "        arr_delay = st.number_input(\"Arrival Delay in Minutes\", 0, 3000, 0, key=\"arr\")\n",
        "        ratings = {}\n",
        "        for i, col in enumerate(RATING_COLS):\n",
        "            ratings[col] = st.slider(col, 0, 5, 3, key=f\"r{i}\")\n",
        "\n",
        "    if st.form_submit_button(\"Prediksi\", use_container_width=True):\n",
        "        row = {\n",
        "            \"Gender\": gender, \"Customer Type\": customer_type, \"Type of Travel\": travel_type,\n",
        "            \"Class\": travel_class, \"Age\": age, \"Flight Distance\": flight_distance,\n",
        "            \"Departure Delay in Minutes\": dep_delay, \"Arrival Delay in Minutes\": arr_delay,\n",
        "            **ratings\n",
        "        }\n",
        "        res = predict_df(pd.DataFrame([row]), threshold=thresh)\n",
        "        label = res.loc[0, \"prediction\"]\n",
        "        p     = float(res.loc[0, \"pred_proba_dissatisfied\"])\n",
        "        msg   = f\"Prediksi: **{label}** (Prob. dissatisfied: {p:.2f}, threshold={thresh:.2f})\"\n",
        "\n",
        "        if label == \"Neutral or Dissatisfied\":\n",
        "            st.error(msg, icon=\"❌\")   # latar MERAH\n",
        "        else:\n",
        "            st.success(msg, icon=\"✅\") # latar HIJAU\n",
        "\n",
        "st.subheader(\"Batch Prediction (Upload CSV)\")\n",
        "up = st.file_uploader(\"Upload CSV (tanpa kolom 'satisfaction')\", type=[\"csv\"])\n",
        "if up is not None:\n",
        "    df_new = pd.read_csv(up)\n",
        "    res = predict_df(df_new, threshold=thresh)\n",
        "    st.dataframe(res[[\"prediction\",\"pred_proba_dissatisfied\"] + ALL_FEATURES], use_container_width=True)\n"
      ],
      "metadata": {
        "colab": {
          "base_uri": "https://localhost:8080/"
        },
        "id": "PTgNIOo-3oAD",
        "outputId": "3dde7f52-91d3-4619-b4da-2cfa020c1fa3"
      },
      "execution_count": null,
      "outputs": [
        {
          "output_type": "stream",
          "name": "stdout",
          "text": [
            "Writing /content/app.py\n"
          ]
        }
      ]
    },
    {
      "cell_type": "code",
      "source": [
        "# Jalankan Streamlit di background, log ke file\n",
        "!streamlit run /content/app.py --server.headless true --server.address 0.0.0.0 --server.port 8501 > /content/streamlit.log 2>&1 &\n",
        "\n",
        "# Tampilkan beberapa baris log awal (cek kalau ada error)\n",
        "!sed -n '1,120p' /content/streamlit.log\n",
        "\n",
        "# Buka tunnel; URL trycloudflare.com akan muncul di output\n",
        "!cloudflared tunnel --url http://localhost:8501 --no-autoupdate\n"
      ],
      "metadata": {
        "colab": {
          "base_uri": "https://localhost:8080/"
        },
        "id": "gtdIrD8E3sQ9",
        "outputId": "7355503b-2ab5-4931-df39-bcebc849af44"
      },
      "execution_count": null,
      "outputs": [
        {
          "metadata": {
            "tags": null
          },
          "name": "stdout",
          "output_type": "stream",
          "text": [
            "\u001b[90m2025-09-04T16:11:57Z\u001b[0m \u001b[32mINF\u001b[0m Thank you for trying Cloudflare Tunnel. Doing so, without a Cloudflare account, is a quick way to experiment and try it out. However, be aware that these account-less Tunnels have no uptime guarantee, are subject to the Cloudflare Online Services Terms of Use (https://www.cloudflare.com/website-terms/), and Cloudflare reserves the right to investigate your use of Tunnels for violations of such terms. If you intend to use Tunnels in production you should use a pre-created named tunnel by following: https://developers.cloudflare.com/cloudflare-one/connections/connect-apps\n",
            "\u001b[90m2025-09-04T16:11:57Z\u001b[0m \u001b[32mINF\u001b[0m Requesting new quick Tunnel on trycloudflare.com...\n",
            "\u001b[90m2025-09-04T16:12:00Z\u001b[0m \u001b[32mINF\u001b[0m +--------------------------------------------------------------------------------------------+\n",
            "\u001b[90m2025-09-04T16:12:00Z\u001b[0m \u001b[32mINF\u001b[0m |  Your quick Tunnel has been created! Visit it at (it may take some time to be reachable):  |\n",
            "\u001b[90m2025-09-04T16:12:00Z\u001b[0m \u001b[32mINF\u001b[0m |  https://africa-teeth-guidelines-ht.trycloudflare.com                                      |\n",
            "\u001b[90m2025-09-04T16:12:00Z\u001b[0m \u001b[32mINF\u001b[0m +--------------------------------------------------------------------------------------------+\n",
            "\u001b[90m2025-09-04T16:12:00Z\u001b[0m \u001b[32mINF\u001b[0m Cannot determine default configuration path. No file [config.yml config.yaml] in [~/.cloudflared ~/.cloudflare-warp ~/cloudflare-warp /etc/cloudflared /usr/local/etc/cloudflared]\n",
            "\u001b[90m2025-09-04T16:12:00Z\u001b[0m \u001b[32mINF\u001b[0m Version 2025.8.1 (Checksum a66353004197ee4c1fcb68549203824882bba62378ad4d00d234bdb8251f1114)\n",
            "\u001b[90m2025-09-04T16:12:00Z\u001b[0m \u001b[32mINF\u001b[0m GOOS: linux, GOVersion: go1.24.4, GoArch: amd64\n",
            "\u001b[90m2025-09-04T16:12:00Z\u001b[0m \u001b[32mINF\u001b[0m Settings: map[ha-connections:1 no-autoupdate:true protocol:quic url:http://localhost:8501]\n",
            "\u001b[90m2025-09-04T16:12:00Z\u001b[0m \u001b[32mINF\u001b[0m cloudflared will not automatically update if installed by a package manager.\n",
            "\u001b[90m2025-09-04T16:12:00Z\u001b[0m \u001b[32mINF\u001b[0m Generated Connector ID: 7295457b-994d-4309-9807-c1c8245c8725\n",
            "\u001b[90m2025-09-04T16:12:00Z\u001b[0m \u001b[32mINF\u001b[0m Initial protocol quic\n",
            "\u001b[90m2025-09-04T16:12:00Z\u001b[0m \u001b[32mINF\u001b[0m ICMP proxy will use 172.28.0.12 as source for IPv4\n",
            "\u001b[90m2025-09-04T16:12:00Z\u001b[0m \u001b[32mINF\u001b[0m ICMP proxy will use :: as source for IPv6\n",
            "\u001b[90m2025-09-04T16:12:00Z\u001b[0m \u001b[1m\u001b[31mERR\u001b[0m\u001b[0m Cannot determine default origin certificate path. No file cert.pem in [~/.cloudflared ~/.cloudflare-warp ~/cloudflare-warp /etc/cloudflared /usr/local/etc/cloudflared]. You need to specify the origin certificate path by specifying the origincert option in the configuration file, or set TUNNEL_ORIGIN_CERT environment variable \u001b[36moriginCertPath=\u001b[0m\n",
            "\u001b[90m2025-09-04T16:12:00Z\u001b[0m \u001b[32mINF\u001b[0m ICMP proxy will use 172.28.0.12 as source for IPv4\n",
            "\u001b[90m2025-09-04T16:12:00Z\u001b[0m \u001b[32mINF\u001b[0m ICMP proxy will use :: as source for IPv6\n",
            "\u001b[90m2025-09-04T16:12:00Z\u001b[0m \u001b[32mINF\u001b[0m Starting metrics server on 127.0.0.1:20241/metrics\n",
            "\u001b[90m2025-09-04T16:12:00Z\u001b[0m \u001b[32mINF\u001b[0m Tunnel connection curve preferences: [X25519MLKEM768 CurveP256] \u001b[36mconnIndex=\u001b[0m0 \u001b[36mevent=\u001b[0m0 \u001b[36mip=\u001b[0m198.41.192.77\n",
            "2025/09/04 16:12:00 failed to sufficiently increase receive buffer size (was: 208 kiB, wanted: 7168 kiB, got: 416 kiB). See https://github.com/quic-go/quic-go/wiki/UDP-Buffer-Sizes for details.\n",
            "\u001b[90m2025-09-04T16:12:01Z\u001b[0m \u001b[32mINF\u001b[0m Registered tunnel connection \u001b[36mconnIndex=\u001b[0m0 \u001b[36mconnection=\u001b[0mf1842196-5b2d-4a38-8bb8-0a9e445b8d83 \u001b[36mevent=\u001b[0m0 \u001b[36mip=\u001b[0m198.41.192.77 \u001b[36mlocation=\u001b[0mhkg01 \u001b[36mprotocol=\u001b[0mquic\n"
          ]
        }
      ]
    }
  ]
}